{
 "cells": [
  {
   "cell_type": "code",
   "execution_count": 1,
   "metadata": {},
   "outputs": [],
   "source": [
    "#import numpy\n",
    "import numpy as np"
   ]
  },
  {
   "cell_type": "code",
   "execution_count": 2,
   "metadata": {},
   "outputs": [],
   "source": [
    "#Matrix multiplication in Apache Spark\n",
    "file1 = sc.textFile(\"/Users/byra/Downloads/matT100.txt\")\n",
    "file2 = sc.textFile(\"/Users/byra/Downloads/mat100.txt\")\n",
    "strA = file1.map(lambda x: x.split(','))\n",
    "strB = file2.map(lambda x: x.split(','))\n",
    "matA = strA.map(lambda i: [int(j)for j in i])\n",
    "matB = strB.map(lambda i: [int(j)for j in i])\n",
    "zipMats = matA.zip(matB)\n",
    "interRDD = zipMats.map(lambda x: np.outer(x[0],x[1]))\n",
    "matC = interRDD.reduce(lambda a,b: np.array(a)+np.array(b))"
   ]
  },
  {
   "cell_type": "code",
   "execution_count": 3,
   "metadata": {},
   "outputs": [],
   "source": [
    "#Matrix multiplication in Numpy\n",
    "a = np.loadtxt('/Users/byra/Downloads/mat100.txt', delimiter=',', dtype = int)\n",
    "b = np.loadtxt('/Users/byra/Downloads/mat100.txt', delimiter=',', dtype = int)\n",
    "c = np.matmul(a,b)"
   ]
  },
  {
   "cell_type": "code",
   "execution_count": 4,
   "metadata": {},
   "outputs": [
    {
     "name": "stdout",
     "output_type": "stream",
     "text": [
      "0\n"
     ]
    }
   ],
   "source": [
    "#Verification\n",
    "result = ((matC - c)**2).sum()\n",
    "print(result)"
   ]
  }
 ],
 "metadata": {
  "kernelspec": {
   "display_name": "Python 3",
   "language": "python",
   "name": "python3"
  },
  "language_info": {
   "codemirror_mode": {
    "name": "ipython",
    "version": 3
   },
   "file_extension": ".py",
   "mimetype": "text/x-python",
   "name": "python",
   "nbconvert_exporter": "python",
   "pygments_lexer": "ipython3",
   "version": "3.6.3"
  }
 },
 "nbformat": 4,
 "nbformat_minor": 2
}
